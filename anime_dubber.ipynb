{
  "nbformat": 4,
  "nbformat_minor": 0,
  "metadata": {
    "colab": {
      "name": "anime_dubber.ipynb",
      "provenance": [],
      "collapsed_sections": [],
      "authorship_tag": "ABX9TyNSw6Kmon1ziI9LWLtLoDx+",
      "include_colab_link": true
    },
    "kernelspec": {
      "name": "python3",
      "display_name": "Python 3"
    },
    "language_info": {
      "name": "python"
    }
  },
  "cells": [
    {
      "cell_type": "markdown",
      "metadata": {
        "id": "view-in-github",
        "colab_type": "text"
      },
      "source": [
        "<a href=\"https://colab.research.google.com/github/pj-mathematician/anime_dubber/blob/main/anime_dubber.ipynb\" target=\"_parent\"><img src=\"https://colab.research.google.com/assets/colab-badge.svg\" alt=\"Open In Colab\"/></a>"
      ]
    },
    {
      "cell_type": "code",
      "metadata": {
        "id": "OrddRxrEZYBk"
      },
      "source": [
        "ep=45"
      ],
      "execution_count": null,
      "outputs": []
    },
    {
      "cell_type": "code",
      "metadata": {
        "id": "MDyP9jkhaXI0"
      },
      "source": [
        "!pip install -q kurby\n",
        "!pip install -q ass"
      ],
      "execution_count": null,
      "outputs": []
    },
    {
      "cell_type": "code",
      "metadata": {
        "id": "DVkE55Mkaepe"
      },
      "source": [
        "!kurby download --nfrom $ep --nto $ep gintama"
      ],
      "execution_count": null,
      "outputs": []
    },
    {
      "cell_type": "code",
      "metadata": {
        "id": "XO524EUPap89"
      },
      "source": [
        "if ep < 10:\n",
        "  path = \"/content/Gintama/Gintama-S00-E00{}.mp4\".format(Episode)\n",
        "elif ep >= 10 and ep <100:\n",
        "  path = \"/content/Gintama/Gintama-S00-E0{}.mp4\".format(Episode)\n",
        "else:\n",
        "  path = \"/content/Gintama/Gintama-S00-E{}.mp4\".format(Episode)\n"
      ],
      "execution_count": null,
      "outputs": []
    }
  ]
}