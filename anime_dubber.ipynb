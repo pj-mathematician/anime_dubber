{
  "nbformat": 4,
  "nbformat_minor": 0,
  "metadata": {
    "colab": {
      "name": "anime_dubber.ipynb",
      "provenance": [],
      "collapsed_sections": [],
      "authorship_tag": "ABX9TyNlAcoYjyzpCDHqOf9cX88y",
      "include_colab_link": true
    },
    "kernelspec": {
      "name": "python3",
      "display_name": "Python 3"
    },
    "language_info": {
      "name": "python"
    }
  },
  "cells": [
    {
      "cell_type": "markdown",
      "metadata": {
        "id": "view-in-github",
        "colab_type": "text"
      },
      "source": [
        "<a href=\"https://colab.research.google.com/github/pj-mathematician/anime_dubber/blob/main/anime_dubber.ipynb\" target=\"_parent\"><img src=\"https://colab.research.google.com/assets/colab-badge.svg\" alt=\"Open In Colab\"/></a>"
      ]
    },
    {
      "cell_type": "code",
      "execution_count": null,
      "metadata": {
        "id": "klea9FEuFNqA"
      },
      "outputs": [],
      "source": [
        "%%capture\n",
        "!pip install anime-downloader\n",
        "!pip install ass\n",
        "!pip install deep-translator\n",
        "!pip install pydub\n",
        "!pip instal -U moviepy\n",
        "!apt install espeak-ng\n",
        "!apt install sox"
      ]
    },
    {
      "cell_type": "code",
      "source": [
        "!apt upgrade ffmpeg"
      ],
      "metadata": {
        "id": "Km-VKdRyIciR"
      },
      "execution_count": null,
      "outputs": []
    },
    {
      "cell_type": "code",
      "source": [
        "!anime dl gintama --provider \"animerush\" -c 16 -e 25"
      ],
      "metadata": {
        "id": "Yw30CAMKFbkF"
      },
      "execution_count": null,
      "outputs": []
    },
    {
      "cell_type": "code",
      "source": [
        "!wget -O data.txt https://raw.githubusercontent.com/pj-mathematician/anime_dubber/main/data.txt\n",
        "!wget -O gintamasubs.zip https://github.com/pj-mathematician/anime_dubber/blob/main/gintamasubs.zip?raw=true\n",
        "!unzip gintamasubs.zip"
      ],
      "metadata": {
        "id": "hdjlM-_6GbCo"
      },
      "execution_count": null,
      "outputs": []
    },
    {
      "cell_type": "code",
      "source": [
        "import ass\n",
        "from deep_translator import GoogleTranslator\n",
        "f=open(\"GintamaSubs/gintama_025.ass\",encoding=\"utf_8_sig\")\n",
        "doc=ass.parse(f)\n",
        "f.close()"
      ],
      "metadata": {
        "id": "zmmRHOOGHVh7"
      },
      "execution_count": null,
      "outputs": []
    },
    {
      "cell_type": "code",
      "source": [
        "print(len(doc.events))"
      ],
      "metadata": {
        "id": "9n6FIxJtRWve"
      },
      "execution_count": null,
      "outputs": []
    },
    {
      "cell_type": "code",
      "source": [
        "j = 1\n",
        "for i in set(l):\n",
        "  print(j,\"'\"+i+\"'\")\n",
        "  j+=1"
      ],
      "metadata": {
        "id": "apO3VIq2KMqN"
      },
      "execution_count": null,
      "outputs": []
    },
    {
      "cell_type": "code",
      "source": [
        "from pydub import AudioSegment\n",
        "from IPython.display import clear_output\n",
        "import datetime\n",
        "import os\n",
        "import time\n",
        "def dell(name):\n",
        "  try:\n",
        "    os.remove(name)\n",
        "  except:\n",
        "    pass\n",
        "dell(\"temp.wav\")\n",
        "dell(\"temp_1.wav\")\n",
        "dell(\"test.wav\")\n",
        "dell(\"test1.wav\")\n",
        "dell(\"test2.wav\")\n",
        "dell(\"test3.wav\")\n",
        "dell(\"temp1.wav\")\n",
        "dell(\"temp2.wav\")\n",
        "dell(\"temp3.wav\")\n",
        "main = AudioSegment.empty()\n",
        "before = None\n",
        "main+=AudioSegment.silent(duration=doc.events[0].start.total_seconds())\n",
        "lang_code = \"en\"\n",
        "k = 0\n",
        "for i in doc.events:\n",
        "  text = i.text\n",
        "  if before == None:\n",
        "    pass\n",
        "  else:\n",
        "    main += AudioSegment.silent(duration=(i.start-before).total_seconds())\n",
        "    before = i.end\n",
        "  dur = (i.end-i.start).total_seconds()\n",
        "  try:\n",
        "    if i.name in [\"\",\"CAPTION\",\"TITLE\",\"OPENING CREDITSCAPTION\"]:\n",
        "      main += AudioSegment.silent(duration = dur)\n",
        "    elif i.name == \"KATHERINE\":\n",
        "      !espeak-ng -w \"test.wav\" -v en+f1 -p 30 -g 10 \"$text\"\n",
        "      temp = AudioSegment.from_file(\"test.wav\")\n",
        "      ate = dur/temp.duration_seconds\n",
        "      if ate<0.5:\n",
        "        ate = 0.5\n",
        "        !ffmpeg -i test.wav -filter:a \"atempo=$ate\" temp_1.wav\n",
        "        !ffmpeg -i temp_1.wav -ss 0 -to \"$dur\" temp.wav\n",
        "      else:\n",
        "        !ffmpeg -i test.wav -filter:a \"atempo=$ate\" temp.wav\n",
        "      #time.sleep(3)\n",
        "      main+=AudioSegment.from_file(\"temp.wav\",format=\"wav\")\n",
        "    elif i.name == \"SHINIGAMI\":\n",
        "      !espeak-ng -w \"test.wav\" -v en+m6 -p 10 \"$text\"\n",
        "      temp = AudioSegment.from_file(\"test.wav\")\n",
        "      ate = dur/temp.duration_seconds\n",
        "      if ate<0.5:\n",
        "        ate = 0.5\n",
        "        !ffmpeg -i test.wav -filter:a \"atempo=$ate\" temp_1.wav\n",
        "        !ffmpeg -i temp_1.wav -ss 0 -to \"$dur\" temp.wav\n",
        "      else:\n",
        "        !ffmpeg -i test.wav -filter:a \"atempo=$ate\" temp.wav\n",
        "      #time.sleep(3)\n",
        "      main+=AudioSegment.from_file(\"temp.wav\",format=\"wav\") \n",
        "    elif i.name in [\"GINTOKI (M)\",\"GINTOKI\",]:\n",
        "      !espeak-ng -w \"test.wav\" -v en+m1 -p 60 -g 10 \"$text\"\n",
        "      temp = AudioSegment.from_file(\"test.wav\")\n",
        "      ate = dur/temp.duration_seconds\n",
        "      if ate<0.5:\n",
        "        ate = 0.5\n",
        "        !ffmpeg -i test.wav -filter:a \"atempo=$ate\" temp_1.wav\n",
        "        !ffmpeg -i temp_1.wav -ss 0 -to \"$dur\" temp.wav\n",
        "        main+=AudioSegment.from_file(\"temp.wav\",format=\"wav\")\n",
        "      elif ate>2:\n",
        "        ate = 2\n",
        "        !ffmpeg -i test.wav -filter:a \"atempo=$ate\" temp.wav\n",
        "        main+=AudioSegment.from_file(\"temp.wav\",format=\"wav\")\n",
        "        main+=AudioSegment.silent(duration = dur-AudioSegment.from_file('temp.wav').duration_seconds)\n",
        "      else:\n",
        "        !ffmpeg -i test.wav -filter:a \"atempo=$ate\" temp.wav\n",
        "        main+=AudioSegment.from_file(\"temp.wav\",format=\"wav\")\n",
        "      #time.sleep(3)\n",
        "      \n",
        "    elif i.name in [\"KATSURA (M)\",\"KATSURA\"]:\n",
        "      !espeak-ng -w \"test.wav\" -v en+m5 -p 30 -g 10 \"$text\"\n",
        "      temp = AudioSegment.from_file(\"test.wav\")\n",
        "      ate = dur/temp.duration_seconds\n",
        "      if ate<0.5:\n",
        "        ate = 0.5\n",
        "        !ffmpeg -i test.wav -filter:a \"atempo=$ate\" temp_1.wav\n",
        "        !ffmpeg -i temp_1.wav -ss 0 -to \"$dur\" temp.wav\n",
        "      else:\n",
        "        !ffmpeg -i test.wav -filter:a \"atempo=$ate\" temp.wav\n",
        "      #time.sleep(3)\n",
        "      main+=AudioSegment.from_file(\"temp.wav\",format=\"wav\")\n",
        "    elif i.name in [\"PREVIEWSHINPACHI\",\"SHINPACHI\",\"SHINPACHI (M)\"]:\n",
        "      !espeak-ng -w \"test.wav\" -v en+m5 -p 150 -g 10 \"$text\"\n",
        "      temp = AudioSegment.from_file(\"test.wav\")\n",
        "      ate = dur/temp.duration_seconds\n",
        "      if ate<0.5:\n",
        "        ate = 0.5\n",
        "        !ffmpeg -i test.wav -filter:a \"atempo=$ate\" temp_1.wav\n",
        "        !ffmpeg -i temp_1.wav -ss 0 -to \"$dur\" temp.wav\n",
        "      else:\n",
        "        !ffmpeg -i test.wav -filter:a \"atempo=$ate\" temp.wav\n",
        "      #time.sleep(3)\n",
        "      main+=AudioSegment.from_file(\"temp.wav\",format=\"wav\")\n",
        "    elif i.name in [\"KAGURA\",\"KAGURA (M)\",\"OMITTEDKAGURA (M)\"]:\n",
        "      text = text + \"aru.\"\n",
        "      !espeak-ng -w \"test.wav\" -v en+f1 -p 150 -g 10 \"$text\"\n",
        "      temp = AudioSegment.from_file(\"test.wav\")\n",
        "      ate = dur/temp.duration_seconds\n",
        "      if ate<0.5:\n",
        "        ate = 0.5\n",
        "        !ffmpeg -i test.wav -filter:a \"atempo=$ate\" temp_1.wav\n",
        "        !ffmpeg -i temp_1.wav -ss 0 -to \"$dur\" temp.wav\n",
        "      else:\n",
        "        !ffmpeg -i test.wav -filter:a \"atempo=$ate\" temp.wav\n",
        "      #time.sleep(3)\n",
        "      try:\n",
        "        main+=AudioSegment.from_file(\"temp.wav\",format=\"wav\")\n",
        "      except:\n",
        "        print(ate)\n",
        "        break\n",
        "    elif i.name == \"GINTOKI/SHINPACHI/KATSURA (M)\":\n",
        "      !espeak-ng -w \"test1.wav\" -v en+m5 -p 150 -g 10 \"$text\"\n",
        "      !espeak-ng -w \"test2.wav\" -v en+m5 -p 30 -g 10 \"$text\"\n",
        "      !espeak-ng -w \"test3.wav\" -v en+m1 -p 60 -g 10 \"$text\"\n",
        "      for j in range(1,4):\n",
        "        na = \"test{}.wav\".format(j)\n",
        "        ma = \"temp{}.wav\".format(j)\n",
        "        temp = AudioSegment.from_file(na)\n",
        "        ate = dur/temp.duration_seconds\n",
        "        !ffmpeg -i \"$na\" -filter:a \"atempo=$ate\" \"$ma\"\n",
        "        #time.sleep(3)\n",
        "      m1 = AudioSegment.from_file(\"temp1.wav\")\n",
        "      m2 = m1.overlay(AudioSegment.from_file(\"temp2.wav\"))\n",
        "      m3 = m2.overlay(AudioSegment.from_file(\"temp3.wav\"))\n",
        "      main+=m3\n",
        "    elif i.name == \"SHINPACHI/GINTOKI/KAGURA\":\n",
        "      text_1 = text+\"aru.\"\n",
        "      !espeak-ng -w \"test1.wav\" -v en+f1 -p 150 -g 10 \"$text_1\"\n",
        "      !espeak-ng -w \"test2.wav\" -v en+m5 -p 150 -g 10 \"$text\"\n",
        "      !espeak-ng -w \"test3.wav\" -v en+m1 -p 60 -g 10 \"$text\"\n",
        "      for j in range(1,4):\n",
        "        na = \"test{}.wav\".format(j)\n",
        "        ma = \"temp{}.wav\".format(j)\n",
        "        temp = AudioSegment.from_file(na)\n",
        "        ate = dur/temp.duration_seconds\n",
        "        !ffmpeg -i \"$na\" -filter:a \"atempo=$ate\" \"$ma\"\n",
        "        #time.sleep(3)\n",
        "      m1 = AudioSegment.from_file(\"temp1.wav\")\n",
        "      m2 = m1.overlay(AudioSegment.from_file(\"temp2.wav\"))\n",
        "      m3 = m2.overlay(AudioSegment.from_file(\"temp3.wav\"))\n",
        "      main+=m3\n",
        "    elif i.name in [\"GINTOKI/SHINPACHI\",\"GINTOKI/SHINPACHI (M)\"]:\n",
        "      !espeak-ng -w \"test1.wav\" -v en+m5 -p 150 -g 10 \"$text\"\n",
        "      !espeak-ng -w \"test2.wav\" -v en+m1 -p 60 -g 10 \"$text\"\n",
        "      for j in range(1,3):\n",
        "        na = \"test{}.wav\".format(j)\n",
        "        ma = \"temp{}.wav\".format(j)\n",
        "        temp = AudioSegment.from_file(na)\n",
        "        ate = dur/temp.duration_seconds\n",
        "        !ffmpeg -i \"$na\" -filter:a \"atempo=$ate\" \"$ma\"\n",
        "        #time.sleep(3)\n",
        "      m1 = AudioSegment.from_file(\"temp1.wav\")\n",
        "      m2 = m1.overlay(AudioSegment.from_file(\"temp2.wav\"))\n",
        "      main+=m2\n",
        "    elif i.name == \"OTOSE\":\n",
        "      !espeak-ng -w \"test.wav\" -v en+f3 -p 1 -g 10 \"$text\"\n",
        "      temp = AudioSegment.from_file(\"test.wav\")\n",
        "      ate = dur/temp.duration_seconds\n",
        "      !ffmpeg -i test.wav -filter:a \"atempo=$ate\" temp.wav\n",
        "      #time.sleep(3)\n",
        "      main+=AudioSegment.from_file(\"temp.wav\",format=\"wav\")\n",
        "    elif i.name == \"ALL (M)\":\n",
        "      text_1 = text+\"aru.\"\n",
        "      !espeak-ng -w \"test1.wav\" -v en+f1 -p 150 -g 10 \"$text_1\"\n",
        "      !espeak-ng -w \"test2.wav\" -v en+m5 -p 150 -g 10 \"$text\"\n",
        "      !espeak-ng -w \"test3.wav\" -v en+m1 -p 60 -g 10 \"$text\"\n",
        "      for j in range(1,4):\n",
        "        na = \"test{}.wav\".format(j)\n",
        "        ma = \"temp{}.wav\".format(j)\n",
        "        temp = AudioSegment.from_file(na)\n",
        "        ate = dur/temp.duration_seconds\n",
        "        !ffmpeg -i \"$na\" -filter:a \"atempo=$ate\" \"$ma\"\n",
        "        #time.sleep(3)\n",
        "      m1 = AudioSegment.from_file(\"temp1.wav\")\n",
        "      m2 = m1.overlay(AudioSegment.from_file(\"temp2.wav\"))\n",
        "      m3 = m2.overlay(AudioSegment.from_file(\"temp3.wav\"))\n",
        "      main+=m3\n",
        "    elif i.name == \"OTOSE/KATHERINE\":\n",
        "      !espeak-ng -w \"test1.wav\" -v en+f3 -p 1 -g 10 \"$text\"\n",
        "      !espeak-ng -w \"test2.wav\" -v en+f1 -p 30 -g 10 \"$text\"\n",
        "      for j in range(1,3):\n",
        "        na = \"test{}.wav\".format(j)\n",
        "        ma = \"temp{}.wav\".format(j)\n",
        "        temp = AudioSegment.from_file(na)\n",
        "        ate = dur/temp.duration_seconds\n",
        "        !ffmpeg -i \"$na\" -filter:a \"atempo=$ate\" \"$ma\"\n",
        "        #time.sleep(3)\n",
        "      m1 = AudioSegment.from_file(\"temp1.wav\")\n",
        "      m2 = m1.overlay(AudioSegment.from_file(\"temp2.wav\"))\n",
        "      main+=m2\n",
        "    else:\n",
        "      print(i.name)\n",
        "  except:\n",
        "    main+=AudioSegment.silent(duration=dur)\n",
        "  clear_output()\n",
        "  print(k)\n",
        "  k+=1\n",
        "  dell(\"temp.wav\")\n",
        "  dell(\"test.wav\")\n",
        "  dell(\"test1.wav\")\n",
        "  dell(\"test2.wav\")\n",
        "  dell(\"test3.wav\")\n",
        "  dell(\"temp_1.wav\")\n",
        "  dell(\"temp1.wav\")\n",
        "  dell(\"temp2.wav\")\n",
        "  dell(\"temp3.wav\")\n",
        "f = main.export(\"main.mp3\",format = \"mp3\")"
      ],
      "metadata": {
        "id": "e1KcJqsJQXeM"
      },
      "execution_count": null,
      "outputs": []
    },
    {
      "cell_type": "code",
      "source": [
        "from pydub import AudioSegment\n",
        "m1 = AudioSegment.from_file(\"main.mp3\")\n",
        "m2 = AudioSegment.from_file(\"bg_l.mp3\")\n",
        "m1+=AudioSegment.silent(duration = m2.duration_seconds-m1.duration_seconds)\n",
        "m3 = m1.overlay(m2)\n",
        "m4 = m3.export(\"final.mp3\")"
      ],
      "metadata": {
        "id": "35Uwe-YNRdlQ"
      },
      "execution_count": null,
      "outputs": []
    },
    {
      "cell_type": "code",
      "source": [
        "from moviepy.editor import *\n",
        "vc = VideoFileClip(\"/content/Gintama/Gintama_025.mp4\")\n",
        "ac = AudioFileClip(\"final.mp3\")\n",
        "vc.audio = ac\n",
        "vc.write_videofile(\"final_video.mp4\")"
      ],
      "metadata": {
        "id": "vrFhrspBSpSG"
      },
      "execution_count": null,
      "outputs": []
    },
    {
      "cell_type": "code",
      "source": [
        "!espeak-ng -w \"test.wav\" -v en+f3 -p 1 -g 10 \"Hi, I am Otose. Nice to meet you\""
      ],
      "metadata": {
        "id": "9sxEo78x11TR"
      },
      "execution_count": null,
      "outputs": []
    },
    {
      "cell_type": "code",
      "source": [
        "!espeak-ng -w \"test.wav\" -v hi+m5 -p 30 -g 10 \"मैं ज़ुरा नहीं, कात्सुरा हूं!\""
      ],
      "metadata": {
        "id": "jspQ1PloyiLz"
      },
      "execution_count": null,
      "outputs": []
    },
    {
      "cell_type": "code",
      "source": [
        "!espeak-ng -w \"test.wav\" -v en+m5 -p 30 -g 10 \"I am not Zuura, I am Katsura!\""
      ],
      "metadata": {
        "id": "hxVA6by_0CEq"
      },
      "execution_count": null,
      "outputs": []
    },
    {
      "cell_type": "code",
      "source": [
        "from IPython.display import Audio,display\n",
        "s = \"temp.wav\"\n",
        "display(Audio(s))"
      ],
      "metadata": {
        "id": "UhiVt8ryy8PD"
      },
      "execution_count": null,
      "outputs": []
    },
    {
      "cell_type": "code",
      "source": [
        "!ffmpeg -i \"/content/Gintama/Gintama_025.mp4\" -q:a 0 -map a original.mp3"
      ],
      "metadata": {
        "id": "8CjO9P9vK5qc"
      },
      "execution_count": null,
      "outputs": []
    },
    {
      "cell_type": "code",
      "source": [
        "from pydub import AudioSegment\n",
        "from pydub.playback import play\n",
        "\n",
        "ss = AudioSegment.from_file(\"original.mp3\",format=\"mp3\")\n",
        "sl = ss.split_to_mono()[0]\n",
        "sr = ss.split_to_mono()[1]\n",
        "sri = sr.invert_phase()\n",
        "sco = sl.overlay(sri)\n",
        "f = sco.export(\"bg.mp3\",format = \"mp3\")"
      ],
      "metadata": {
        "id": "sVZlnOeXNSa8"
      },
      "execution_count": null,
      "outputs": []
    },
    {
      "cell_type": "code",
      "source": [
        "!ffmpeg -i \"bg.mp3\" -filter:a \"volume=0.7\" \"bg_l.mp3\""
      ],
      "metadata": {
        "id": "tXBdUcKePy97"
      },
      "execution_count": null,
      "outputs": []
    },
    {
      "cell_type": "code",
      "source": [
        "from IPython.display import Audio,display\n",
        "s = \"original.mp3\"\n",
        "display(Audio(s))"
      ],
      "metadata": {
        "id": "PUjx-zrSMRv0"
      },
      "execution_count": null,
      "outputs": []
    }
  ]
}